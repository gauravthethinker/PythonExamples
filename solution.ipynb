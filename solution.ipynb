{
 "cells": [
  {
   "cell_type": "code",
   "execution_count": 21,
   "metadata": {
    "id": "ZU6BuklLXRPi"
   },
   "outputs": [],
   "source": [
    "import numpy as np\n",
    "import pickle\n",
    "\n",
    "class LinearSystem:\n",
    "    def __init__(self, A):\n",
    "        self.A = A\n",
    "        self.factor = None\n",
    "        \n",
    "    def compute_factor(self, b):\n",
    "        if self.factor is None:\n",
    "            # Going to compute the QR factorization for A\n",
    "            Q, R = np.linalg.qr(self.A)\n",
    "            self.factor = (Q, R)\n",
    "        else:\n",
    "            Q, R = self.factor\n",
    "        \n",
    "        # This will solve the system using the QR factorization and the least-squares method\n",
    "        qr_factor = np.linalg.solve(R, np.dot(Q.T, b))\n",
    "        \n",
    "        return qr_factor\n",
    "    \n",
    "    # This function will save the linear expression using Pickle\n",
    "    def save_expression(self, filename):\n",
    "        with open(filename, 'wb') as f:\n",
    "            pickle.dump(self, f)\n",
    "    \n",
    "    # This function will load the save linear expression using Pickle\n",
    "    def load_expression(cls, filename):\n",
    "        with open(filename, 'rb') as f:\n",
    "            obj = pickle.load(f)\n",
    "        return obj\n",
    "    \n",
    "    # This function will calulate the norm ||A*x-b||**2\n",
    "    def calculate_norm(self, a, b):\n",
    "        return np.linalg.norm(np.dot(self.A, a) - b)\n"
   ]
  },
  {
   "cell_type": "code",
   "execution_count": 22,
   "metadata": {
    "id": "MwRecrqAXS8y"
   },
   "outputs": [],
   "source": [
    "# Create a LinearSystem object with the constraint matrix A\n",
    "A = np.array([[1, 2], [2, 2], [3, 1]])\n",
    "ls = LinearSystem(A)\n",
    "\n",
    "# Solve the system for two different right-hand sides\n",
    "b1 = np.array([1, 2, 3])\n",
    "a_compute_factor = ls.compute_factor(b1)\n",
    "norm1 = ls.calculate_norm(a_compute_factor, b1)\n",
    "\n",
    "b2 = np.array([4, 5, 6])\n",
    "a2_compute_factor = ls.compute_factor(b2)\n",
    "norm2 = ls.calculate_norm(a2_compute_factor, b2)\n",
    "\n",
    "# Save the state of the LinearSystem object to a file\n",
    "ls.save_expression('linear_system.pk')\n",
    "\n",
    "# Load the saved LinearSystem object from the file\n",
    "ls2 = ls.load_expression('linear_system.pk')\n"
   ]
  },
  {
   "cell_type": "code",
   "execution_count": 6,
   "metadata": {
    "colab": {
     "base_uri": "https://localhost:8080/"
    },
    "id": "-_rs2t0SXVr6",
    "outputId": "d662268c-8f98-4ff5-f0c4-392e1a726210"
   },
   "outputs": [
    {
     "data": {
      "text/plain": [
       "1.1102230246251565e-16"
      ]
     },
     "execution_count": 6,
     "metadata": {},
     "output_type": "execute_result"
    }
   ],
   "source": [
    "residual_norm1"
   ]
  },
  {
   "cell_type": "code",
   "execution_count": 7,
   "metadata": {
    "colab": {
     "base_uri": "https://localhost:8080/"
    },
    "id": "3Lh7JK6_XZfv",
    "outputId": "cc70d1b7-6b46-4421-e643-26dffdae365f"
   },
   "outputs": [
    {
     "data": {
      "text/plain": [
       "1.7763568394002505e-15"
      ]
     },
     "execution_count": 7,
     "metadata": {},
     "output_type": "execute_result"
    }
   ],
   "source": [
    "residual_norm2"
   ]
  },
  {
   "cell_type": "code",
   "execution_count": null,
   "metadata": {
    "id": "Xfg7jypNIdoK"
   },
   "outputs": [],
   "source": []
  }
 ],
 "metadata": {
  "colab": {
   "provenance": []
  },
  "kernelspec": {
   "display_name": "Python 3 (ipykernel)",
   "language": "python",
   "name": "python3"
  },
  "language_info": {
   "codemirror_mode": {
    "name": "ipython",
    "version": 3
   },
   "file_extension": ".py",
   "mimetype": "text/x-python",
   "name": "python",
   "nbconvert_exporter": "python",
   "pygments_lexer": "ipython3",
   "version": "3.9.6"
  }
 },
 "nbformat": 4,
 "nbformat_minor": 1
}
